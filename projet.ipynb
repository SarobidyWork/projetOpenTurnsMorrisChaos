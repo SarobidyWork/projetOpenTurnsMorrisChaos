{
 "cells": [
  {
   "attachments": {},
   "cell_type": "markdown",
   "metadata": {},
   "source": [
    "# Projet OpenTurns : Morris-Chaos\n",
    "\n",
    "****\n",
    "+ Sarobidy RANDIMBIARISON, ING3 MACS\n",
    "\n",
    "+ Davidson Lova RAZAFINDRAKOTO, ING3 MACS\n",
    "\n",
    "+ Thibaut TORRES, ING3 MACS\n",
    "\n",
    "****"
   ]
  },
  {
   "attachments": {},
   "cell_type": "markdown",
   "metadata": {},
   "source": [
    "## Introduction\n"
   ]
  },
  {
   "cell_type": "code",
   "execution_count": 2,
   "metadata": {},
   "outputs": [],
   "source": [
    "import openturns as ot"
   ]
  },
  {
   "cell_type": "code",
   "execution_count": 3,
   "metadata": {},
   "outputs": [],
   "source": [
    "class MorrisFunction(ot.OpenTURNSPythonFunction):\n",
    "\n",
    "    \"\"\"\n",
    "    The non-monotonic function of Morris f: R^20 -> R\n",
    "    Reference:\n",
    "    M. D. Morris, 1991, Factorial sampling plans for preliminary\n",
    "    computational experiments,Technometrics, 33, 161--174.\n",
    "    This code was taken from otmorris/python/src/Morris.i.\n",
    "    Examples\n",
    "    --------\n",
    "    >>> import openturns as ot\n",
    "    >>> ot.RandomGenerator.SetSeed(123)\n",
    "    >>> b0 = ot.DistFunc.rNormal()\n",
    "    >>> alpha = ot.DistFunc.rNormal(10)\n",
    "    >>> beta = ot.DistFunc.rNormal(6*14)\n",
    "    >>> gamma = ot.DistFunc.rNormal(20*14)\n",
    "    >>> f = ot.Function( MorrisFunction(alpha, beta, gamma, b0) )\n",
    "    >>> input_sample = ot.ComposedDistribution([ot.Uniform(0,1)] * 20).\n",
    "    ↪getSample(20)\n",
    "    >>> output_sample = f(input_sample)\n",
    "    \"\"\"\n",
    "\n",
    "    def __init__(\n",
    "        self, alpha=ot.Point(10), beta=ot.Point(14 * 6), gamma=ot.Point(20 * 14), b0=0.0\n",
    "    ):\n",
    "        ot.OpenTURNSPythonFunction.__init__(self, 20, 1)\n",
    "        self.b0 = float(b0)\n",
    "        # Check alpha dimension\n",
    "        assert len(alpha) == 10\n",
    "        self.b1 = [20] * 10 + list(alpha)\n",
    "        # Check beta and gamma dimension\n",
    "        assert len(beta) == 6 * 14\n",
    "        assert len(gamma) == 20 * 14\n",
    "        self.b2 = [[0] * 20] * 20\n",
    "        for i in range(6):\n",
    "            for j in range(6):\n",
    "                self.b2[i][j] = -15.0\n",
    "\n",
    "        # Take into account beta\n",
    "        k = 0\n",
    "        for i in range(6):\n",
    "            for j in range(14):\n",
    "                self.b2[i][j + 6] = beta[k]\n",
    "                k = k + 1\n",
    "\n",
    "        # Take into account gamma\n",
    "        k = 0\n",
    "        for i in range(6, 20):\n",
    "            for j in range(20):\n",
    "                self.b2[i][j] = gamma[k]\n",
    "\n",
    "        # b3\n",
    "        self.b3 = [[[0] * 20] * 20] * 20\n",
    "        for i in range(5):\n",
    "            for j in range(5):\n",
    "                for k in range(5):\n",
    "                    self.b3[i][j][k] = -10.0\n",
    "        # b4\n",
    "        self.b4 = [[[[0] * 20] * 20] * 20] * 20\n",
    "        for i in range(4):\n",
    "            for j in range(4):\n",
    "                for k in range(4):\n",
    "                    for l in range(4):\n",
    "                        self.b4[i][j][k][l] = 5\n",
    "\n",
    "    def _exec(self, x):\n",
    "        assert len(x) == 20\n",
    "        b1 = self.b1\n",
    "        b2 = self.b2\n",
    "        b3 = self.b3\n",
    "        b4 = self.b4\n",
    "        # X is a list, transform it into array\n",
    "        X = ot.Point(x)\n",
    "        w = (X - [0.5] * 20) * 2\n",
    "        for k in [2, 4, 6]:\n",
    "            w[k] = 2.0 * (1.1 * X[k] / (X[k] + 0.1) - 0.5)\n",
    "\n",
    "        y = self.b0\n",
    "        y = w.dot(b1)\n",
    "        # Morris function\n",
    "        for i in range(19):\n",
    "            for j in range(i + 1, 20):\n",
    "                y += b2[i][j] * w[i] * w[j]\n",
    "        for i in range(18):\n",
    "            for j in range(i + 1, 19):\n",
    "                for k in range(j + 1, 20):\n",
    "                    y += b3[i][j][k] * w[i] * w[j] * w[k]\n",
    "        for i in range(17):\n",
    "            for j in range(i + 1, 18):\n",
    "                for k in range(j + 1, 20):\n",
    "                    for l in range(k + 1, 20):\n",
    "                        y += b4[i][j][k][l] * w[i] * w[j] * w[k] * w[l]\n",
    "        return [y]\n"
   ]
  },
  {
   "cell_type": "code",
   "execution_count": 4,
   "metadata": {},
   "outputs": [
    {
     "data": {
      "text/html": [
       "<p>[-67.2839]</p>"
      ],
      "text/plain": [
       "class=Point name=Unnamed dimension=1 values=[-67.2839]"
      ]
     },
     "execution_count": 4,
     "metadata": {},
     "output_type": "execute_result"
    }
   ],
   "source": [
    "ot.RandomGenerator.SetSeed(1)\n",
    "b0 = ot.DistFunc.rNormal()\n",
    "alpha = ot.DistFunc.rNormal(10)\n",
    "beta = ot.DistFunc.rNormal(6 * 14)\n",
    "gamma = ot.DistFunc.rNormal(20 * 14)\n",
    "g = ot.Function(MorrisFunction(alpha, beta, gamma, b0))\n",
    "x = ot.Point([0] * 20)\n",
    "g(x)"
   ]
  },
  {
   "attachments": {},
   "cell_type": "markdown",
   "metadata": {},
   "source": [
    "### Question 1 : analyse de la fonction"
   ]
  },
  {
   "cell_type": "code",
   "execution_count": null,
   "metadata": {},
   "outputs": [],
   "source": []
  },
  {
   "attachments": {},
   "cell_type": "markdown",
   "metadata": {},
   "source": [
    "### Question 2 : création de deux échantillons d'apprentissage et de validation"
   ]
  },
  {
   "cell_type": "code",
   "execution_count": null,
   "metadata": {},
   "outputs": [],
   "source": []
  },
  {
   "attachments": {},
   "cell_type": "markdown",
   "metadata": {},
   "source": [
    "### Question 3 : création d'un chaos polynomial creux avec une règle linéaire"
   ]
  },
  {
   "cell_type": "code",
   "execution_count": null,
   "metadata": {},
   "outputs": [],
   "source": []
  },
  {
   "attachments": {},
   "cell_type": "markdown",
   "metadata": {},
   "source": [
    "### Question 4 : Sensibilité du chaos au degré du polynome"
   ]
  },
  {
   "cell_type": "code",
   "execution_count": null,
   "metadata": {},
   "outputs": [],
   "source": []
  },
  {
   "attachments": {},
   "cell_type": "markdown",
   "metadata": {},
   "source": [
    "### Question 5 : Analyse de sensibilité du chaos polynomial"
   ]
  },
  {
   "cell_type": "code",
   "execution_count": null,
   "metadata": {},
   "outputs": [],
   "source": []
  },
  {
   "attachments": {},
   "cell_type": "markdown",
   "metadata": {},
   "source": [
    "### Question 6 : Chaos polynomial avec règle d'énumeration hyperbolique"
   ]
  },
  {
   "cell_type": "code",
   "execution_count": null,
   "metadata": {},
   "outputs": [],
   "source": []
  },
  {
   "attachments": {},
   "cell_type": "markdown",
   "metadata": {},
   "source": [
    "### Question 7 : Analyse de sensibilité du chaos polynomial"
   ]
  },
  {
   "cell_type": "code",
   "execution_count": null,
   "metadata": {},
   "outputs": [],
   "source": []
  },
  {
   "attachments": {},
   "cell_type": "markdown",
   "metadata": {},
   "source": [
    "### Question 8 : recherche d'un groupe de variable optimal"
   ]
  },
  {
   "cell_type": "code",
   "execution_count": null,
   "metadata": {},
   "outputs": [],
   "source": [
    "def findMinimumTotalOrderNotInGroup(total_order, isingroup):\n",
    "    \"\"\"\n",
    "    Returns the indice of the variable not in the group which\n",
    "    has the minimum total order indice.\n",
    "    isingroup : a boolean array with size dim.\n",
    "    isingroup[i] is True if i is in the group.\n",
    "    \"\"\"\n",
    "    Tmin = 2.0\n",
    "    dim = len(total_order)\n",
    "    imin = dim\n",
    "    for i in range(dim):\n",
    "        if not isingroup[i]:\n",
    "            T = total_order[i]\n",
    "        if T < Tmin:\n",
    "            imin = i\n",
    "            Tmin = T\n",
    "    return imin"
   ]
  },
  {
   "attachments": {},
   "cell_type": "markdown",
   "metadata": {},
   "source": [
    "### Question 9 : Sythèse"
   ]
  },
  {
   "cell_type": "code",
   "execution_count": null,
   "metadata": {},
   "outputs": [],
   "source": []
  }
 ],
 "metadata": {
  "kernelspec": {
   "display_name": "Python 3",
   "language": "python",
   "name": "python3"
  },
  "language_info": {
   "codemirror_mode": {
    "name": "ipython",
    "version": 3
   },
   "file_extension": ".py",
   "mimetype": "text/x-python",
   "name": "python",
   "nbconvert_exporter": "python",
   "pygments_lexer": "ipython3",
   "version": "3.10.6"
  },
  "orig_nbformat": 4,
  "vscode": {
   "interpreter": {
    "hash": "31f2aee4e71d21fbe5cf8b01ff0e069b9275f58929596ceb00d14d90e3e16cd6"
   }
  }
 },
 "nbformat": 4,
 "nbformat_minor": 2
}
